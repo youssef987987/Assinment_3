{
 "cells": [
  {
   "cell_type": "markdown",
   "metadata": {},
   "source": [
    "# Assignment 3"
   ]
  },
  {
   "cell_type": "markdown",
   "metadata": {},
   "source": [
    "### Write a function to count the number 4 in a given list."
   ]
  },
  {
   "cell_type": "code",
   "execution_count": 12,
   "metadata": {},
   "outputs": [
    {
     "data": {
      "text/plain": [
       "3"
      ]
     },
     "execution_count": 12,
     "metadata": {},
     "output_type": "execute_result"
    }
   ],
   "source": [
    "l1=[2,3,4,5,4,6,4]\n",
    "c1=l1.count(4)\n",
    "class num:\n",
    "    def __init__(self, c):\n",
    "        self.count=c  \n",
    "n1= num(c1)\n",
    "n1.count\n",
    "\n"
   ]
  },
  {
   "cell_type": "markdown",
   "metadata": {},
   "source": [
    "### write a  function to check whether a number is divisible by another number."
   ]
  },
  {
   "cell_type": "code",
   "execution_count": 22,
   "metadata": {},
   "outputs": [
    {
     "name": "stdout",
     "output_type": "stream",
     "text": [
      "Enter the num1 6\n",
      "Enter the num2 3\n",
      "False\n"
     ]
    }
   ],
   "source": [
    "n1=int(input('Enter the num1 '))\n",
    "n2=int(input('Enter the num2 '))\n",
    "class num:\n",
    "    def __init__(self, num1, num2):\n",
    "        if num1%num2==0 or num2%num1==0:\n",
    "            print('True')\n",
    "        else:\n",
    "            print('False')\n",
    "n3=num(n1, n2)"
   ]
  },
  {
   "cell_type": "markdown",
   "metadata": {},
   "source": [
    "### write a function to find the maximum and minimum numbers from a sequence of numbers."
   ]
  },
  {
   "cell_type": "code",
   "execution_count": 37,
   "metadata": {},
   "outputs": [
    {
     "name": "stdout",
     "output_type": "stream",
     "text": [
      "Enter the number3\n",
      "23\n",
      "4356\n",
      "547\n",
      "the minimun is 23\n",
      "the maximum is 4356\n"
     ]
    }
   ],
   "source": [
    "list1=[]\n",
    "n=int(input('Enter the number'))\n",
    "for i in range(0, n):\n",
    "    nums=int(input())\n",
    "    list1.append(nums)\n",
    "\n",
    "class num:\n",
    "    def __init__(self, m1):\n",
    "        self.mini=min(m1)\n",
    "        self.maxi=max(m1)\n",
    "d1=num(list1)\n",
    "print(\"the minimun is {}\".format(d1.mini))\n",
    "print(\"the maximum is {}\".format(d1.maxi))"
   ]
  },
  {
   "cell_type": "markdown",
   "metadata": {},
   "source": [
    "##### Write a Python function that takes two lists and returns True if they have at least one common member."
   ]
  },
  {
   "cell_type": "code",
   "execution_count": 3,
   "metadata": {},
   "outputs": [
    {
     "name": "stdout",
     "output_type": "stream",
     "text": [
      "Enter the number2\n",
      "2\n",
      "4\n",
      "Enter the number2\n",
      "3\n",
      "2\n"
     ]
    }
   ],
   "source": [
    "list1=[]\n",
    "n=int(input('Enter the number'))\n",
    "for i in range(0, n):\n",
    "    nums=int(input())\n",
    "    list1.append(nums)\n",
    "list2=[]\n",
    "n2=int(input('Enter the number'))\n",
    "for z in range(0, n2):\n",
    "    nums2=int(input())\n",
    "    list2.append(nums)\n",
    "for x in list2:\n",
    "    for y in list1:\n",
    "        if x==y:\n",
    "            print('True')\n",
    "        else:\n",
    "            print('False')"
   ]
  },
  {
   "cell_type": "markdown",
   "metadata": {},
   "source": [
    "### Write a Python function to calculate the factorial of a number (a non-negative integer). The function accepts the number from the user"
   ]
  },
  {
   "cell_type": "code",
   "execution_count": 9,
   "metadata": {},
   "outputs": [
    {
     "name": "stdout",
     "output_type": "stream",
     "text": [
      "Enter ur num 4\n",
      "the factorial for 4 is 24\n"
     ]
    }
   ],
   "source": [
    "num=int(input('Enter ur num '))\n",
    "\n",
    "class fac:\n",
    "    def __init__(self, x):\n",
    "        factorial=1\n",
    "        if x>0:\n",
    "            for i in range(1, x+1):\n",
    "                factorial=factorial*i\n",
    "            print('the factorial for {} is {}'.format(x, factorial))\n",
    "        else:\n",
    "            print('input a non-negative integer')\n",
    "fact=fac(num)"
   ]
  },
  {
   "cell_type": "markdown",
   "metadata": {},
   "source": [
    "### Write a Python function to check whether a number is in a given range.\n",
    "\n",
    "### The range is from 3 to 11\n"
   ]
  },
  {
   "cell_type": "code",
   "execution_count": 16,
   "metadata": {},
   "outputs": [
    {
     "name": "stdout",
     "output_type": "stream",
     "text": [
      "Enter the number 654\n",
      "enter a right number\n"
     ]
    }
   ],
   "source": [
    "num=int(input('Enter the number '))\n",
    "class check:\n",
    "    def __init__(self, x):\n",
    "        if x in range(3,12):\n",
    "            print('the num is in the range')\n",
    "            \n",
    "        else:\n",
    "            print('enter a right number')\n",
    "            \n",
    "ch=check(num)"
   ]
  },
  {
   "cell_type": "markdown",
   "metadata": {},
   "source": [
    "### Write a  program to create the multiplication table (from 1 to 10) of a number."
   ]
  },
  {
   "cell_type": "code",
   "execution_count": 22,
   "metadata": {},
   "outputs": [
    {
     "name": "stdout",
     "output_type": "stream",
     "text": [
      "Enter a num 6\n",
      "6\n",
      "12\n",
      "18\n",
      "24\n",
      "30\n",
      "36\n",
      "42\n",
      "48\n",
      "54\n",
      "60\n"
     ]
    }
   ],
   "source": [
    "num=int(input('Enter a num '))\n",
    "class mult:\n",
    "    \n",
    "    def __init__(self, x):\n",
    "       n=0\n",
    "       while n<10:\n",
    "        n=n+1\n",
    "        num=n*x\n",
    "        print(num)\n",
    "m=mult(num)"
   ]
  },
  {
   "cell_type": "markdown",
   "metadata": {},
   "source": [
    "#### LESSER OF TWO EVENS: Write a function that returns the lesser of two given numbers *if* both numbers are even, but returns the greater if one or both numbers are odd\n",
    "    lesser_of_two_evens(2,4) --> 2\n",
    "    lesser_of_two_evens(2,5) --> 5"
   ]
  },
  {
   "cell_type": "code",
   "execution_count": 25,
   "metadata": {},
   "outputs": [
    {
     "name": "stdout",
     "output_type": "stream",
     "text": [
      "Enter the first num5\n",
      "Enter the second num7\n",
      "lesser_of_two_evens(5,7) --> 7\n"
     ]
    }
   ],
   "source": [
    "num1=int(input('Enter the first num'))\n",
    "num2=int(input('Enter the second num'))\n",
    "class num:\n",
    "    def __init__(self, x, y):\n",
    "        l1=[x,y]\n",
    "        if x%2==0 and y%2==0:\n",
    "            print('lesser_of_two_evens({},{}) --> {}'.format(x,y,min(l1)))\n",
    "        else:\n",
    "            print('lesser_of_two_evens({},{}) --> {}'.format(x,y,max(l1)))\n",
    "lesser=num(num1,num2)"
   ]
  },
  {
   "cell_type": "markdown",
   "metadata": {},
   "source": [
    "#### ANIMAL CRACKERS: Write a function takes a two-word string and returns True if both words begin with same letter\n",
    "    animal_crackers('Levelheaded Llama') --> True\n",
    "    animal_crackers('Crazy Kangaroo') --> False"
   ]
  },
  {
   "cell_type": "code",
   "execution_count": 27,
   "metadata": {},
   "outputs": [
    {
     "name": "stdout",
     "output_type": "stream",
     "text": [
      "Enter the first word gy\n",
      "Enter the second word uy\n",
      "False\n"
     ]
    }
   ],
   "source": [
    "f1=input('Enter the first word ')\n",
    "f2=input('Enter the second word ')\n",
    "class wo:\n",
    "    def __init__(self, x, y):\n",
    "        if x[0]==y[0]:\n",
    "            print(True)\n",
    "        else:\n",
    "            print(False)\n",
    "word=wo(f1,f2)\n",
    "            "
   ]
  },
  {
   "cell_type": "markdown",
   "metadata": {},
   "source": [
    "#### MAKES TWENTY: Given two integers, return True if the sum of the integers is 20 *or* if one of the integers is 20. If not, return False\n",
    "\n",
    "    makes_twenty(20,10) --> True\n",
    "    makes_twenty(12,8) --> True\n",
    "    makes_twenty(2,3) --> False"
   ]
  },
  {
   "cell_type": "code",
   "execution_count": 32,
   "metadata": {},
   "outputs": [
    {
     "name": "stdout",
     "output_type": "stream",
     "text": [
      "Enter the 1 num13\n",
      "Enter the 2 num2\n",
      "makes_twenty(13,2) --> False\n"
     ]
    }
   ],
   "source": [
    "n1=int(input('Enter the 1 num'))\n",
    "n2=int(input('Enter the 2 num'))\n",
    "class num:\n",
    "    def __init__(self, x, y):\n",
    "        if x+y==20 or x==20 or y==20:\n",
    "            print('makes_twenty({},{}) --> True'.format(x,y))\n",
    "        else:\n",
    "            print('makes_twenty({},{}) --> False'.format(x,y))\n",
    "nu=num(n1,n2)"
   ]
  },
  {
   "cell_type": "markdown",
   "metadata": {},
   "source": [
    "#### ALMOST THERE: Given an integer n, return True if n is within 10 of either 100 or 200\n",
    "\n",
    "    almost_there(90) --> True\n",
    "    almost_there(104) --> True\n",
    "    almost_there(150) --> False\n",
    "    almost_there(209) --> True\n",
    "    \n",
    "NOTE: `abs(num)` returns the absolute value of a number"
   ]
  },
  {
   "cell_type": "code",
   "execution_count": 47,
   "metadata": {},
   "outputs": [
    {
     "name": "stdout",
     "output_type": "stream",
     "text": [
      "209\n",
      "almost_there(209) --> True\n"
     ]
    }
   ],
   "source": [
    "n1=int(input())\n",
    "class num:\n",
    "    def __init__(self,x):\n",
    "        if (200-x<=10 and 200-x>0) or (100-x<=10 and 100-x>0) or (x-200<=10 and x-200>0) or (x-100<=10 and x-100>0):\n",
    "            print('almost_there({}) --> True'.format(x))\n",
    "        else:\n",
    "            print('almost_there({}) --> False'.format(x))\n",
    "number=num(n1)"
   ]
  },
  {
   "cell_type": "markdown",
   "metadata": {},
   "source": [
    "#### BLACKJACK: Given three integers between 1 and 11, if their sum is less than or equal to 21, return their sum. If their sum exceeds 21 *and* there's an eleven, reduce the total sum by 10. Finally, if the sum  exceeds 21, return 'BUST'\n",
    "    blackjack(5,6,7) --> 18\n",
    "    blackjack(9,9,9) --> 'BUST'\n",
    "    blackjack(9,9,11) --> 19"
   ]
  },
  {
   "cell_type": "code",
   "execution_count": 73,
   "metadata": {},
   "outputs": [
    {
     "name": "stdout",
     "output_type": "stream",
     "text": [
      "the 1 num 44\n",
      "the 2 num 66\n",
      "the 3 num 44\n",
      "Bust\n"
     ]
    }
   ],
   "source": [
    "n1=int(input('the 1 num '))\n",
    "n2=int(input('the 2 num '))\n",
    "n3=int(input('the 3 num '))\n",
    "class num:\n",
    "    def __init__(self, x, y, z):\n",
    "        to=x+y+z\n",
    "        if to==21 or to<21:\n",
    "            print(to)\n",
    "        elif to>21 and x==11 or y==11 or z==11:\n",
    "            to=to-10\n",
    "            print(to)\n",
    "        else:\n",
    "            print('Bust')\n",
    "sum1=num(n1,n2,n3)\n"
   ]
  },
  {
   "cell_type": "code",
   "execution_count": null,
   "metadata": {},
   "outputs": [],
   "source": []
  }
 ],
 "metadata": {
  "kernelspec": {
   "display_name": "Python 3 (ipykernel)",
   "language": "python",
   "name": "python3"
  },
  "language_info": {
   "codemirror_mode": {
    "name": "ipython",
    "version": 3
   },
   "file_extension": ".py",
   "mimetype": "text/x-python",
   "name": "python",
   "nbconvert_exporter": "python",
   "pygments_lexer": "ipython3",
   "version": "3.9.7"
  }
 },
 "nbformat": 4,
 "nbformat_minor": 2
}
